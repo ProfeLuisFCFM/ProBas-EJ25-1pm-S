{
  "nbformat": 4,
  "nbformat_minor": 0,
  "metadata": {
    "colab": {
      "provenance": [],
      "authorship_tag": "ABX9TyNH/fNES1KcTv+xJH9+Pu3n",
      "include_colab_link": true
    },
    "kernelspec": {
      "name": "python3",
      "display_name": "Python 3"
    },
    "language_info": {
      "name": "python"
    }
  },
  "cells": [
    {
      "cell_type": "markdown",
      "metadata": {
        "id": "view-in-github",
        "colab_type": "text"
      },
      "source": [
        "<a href=\"https://colab.research.google.com/github/ProfeLuisFCFM/ProBas-EJ25-1pm-S/blob/main/Semana1/Semana_1.ipynb\" target=\"_parent\"><img src=\"https://colab.research.google.com/assets/colab-badge.svg\" alt=\"Open In Colab\"/></a>"
      ]
    },
    {
      "cell_type": "markdown",
      "source": [
        "Pregunta 1: jsbfdjbsigjsdgbo\n",
        "Respuesta: a)"
      ],
      "metadata": {
        "id": "pd4INuUvxAsr"
      }
    },
    {
      "cell_type": "code",
      "source": [
        "print(\"Hola Mundo\")\n",
        "\n",
        "print(\"Hola mundo desde google Colab\")"
      ],
      "metadata": {
        "colab": {
          "base_uri": "https://localhost:8080/"
        },
        "id": "LXcNnR8mvzge",
        "outputId": "f383de54-2194-4e89-bcd7-4ffaa3a68d64"
      },
      "execution_count": null,
      "outputs": [
        {
          "output_type": "stream",
          "name": "stdout",
          "text": [
            "Hola Mundo\n",
            "Hola mundo desde google Colab\n"
          ]
        }
      ]
    },
    {
      "cell_type": "code",
      "source": [
        "print(\"Adios Inmundo\")"
      ],
      "metadata": {
        "colab": {
          "base_uri": "https://localhost:8080/"
        },
        "id": "-RFrX_FiICdB",
        "outputId": "717255ac-7ca7-4792-94cf-1bf92bde826b"
      },
      "execution_count": 1,
      "outputs": [
        {
          "output_type": "stream",
          "name": "stdout",
          "text": [
            "Adios Inmundo\n"
          ]
        }
      ]
    },
    {
      "cell_type": "markdown",
      "source": [
        "[**Que rollo?**](https://www.google.com)\n"
      ],
      "metadata": {
        "id": "xKI3aX38IGJg"
      }
    }
  ]
}